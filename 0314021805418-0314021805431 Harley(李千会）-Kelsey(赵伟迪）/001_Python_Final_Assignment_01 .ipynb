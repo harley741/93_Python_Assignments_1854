{
 "cells": [
  {
   "cell_type": "markdown",
   "metadata": {},
   "source": [
    "#    JLUFE                                                     Spring 2021 (Feb-July) \n",
    "\n",
    "                             Final Assignment Report        \n",
    "                                 \n",
    "                          \n",
    "                     JILIN UNIVERSITY OF FINANCE AND ECONOMICS  \n",
    "\n",
    "      Department of College of Managment Science and Information Engineering\n",
    "           \n",
    "                    BSc in Data Science and Big Data Technology\n",
    "                                  \n",
    "                                     (2021)\n",
    "                                          \n",
    "                              \n",
    "                                   \n",
    "                            Final Assignment: Part 01\n",
    "                                          \n",
    "                                  10/07/2021\n",
    "                                      \n",
    "                               MODULE: Data Mining \n",
    "                               \n",
    "                  Submitted by: Harley(李千会) 0314021805418 (1854)\n",
    "                                 QQ: 1392072344\n",
    "                                 GitHub ID:harley741"
   ]
  },
  {
   "cell_type": "markdown",
   "metadata": {},
   "source": [
    "# RULES:\n",
    "\n",
    "1. I have added tips and required learning resources for each question, which helps you to solve the exercise. \n",
    "\n",
    "2. Finish the assignment on your **OWN** (**Any student find copying/sharing from classmates or internet will get '0' points!!!**)\n",
    "\n",
    "3. Once you finish the Assignment **[convert your .ipynb file into PDF](https://github.com/milaan9/91_Python_Tips/blob/main/000_Convert_Jupyter_Notebook_to_PDF.ipynb)** (both .pynb and .pdf file will be required!)\n",
    "\n",
    "4. Create **.zip** file and include your two files:\n",
    "    1. Your Jupyter Notebook file (**001_Python_Assignment_01.ipynb**)\n",
    "    2. Your PDF converted file of 001_Python_Assignment_01.ipynb (**001_Python_Assignment_01.pdf**)\n",
    "    \n",
    "5. Name your .zip file as your student number and name.\n",
    "   example: **0318021907632 Milan(米兰).zip**"
   ]
  },
  {
   "cell_type": "markdown",
   "metadata": {},
   "source": [
    "# Python Assignment 01"
   ]
  },
  {
   "cell_type": "markdown",
   "metadata": {},
   "source": [
    "### Question 1: \n",
    "\n",
    "Write a python program that generates a list containing only common elements between the two lists (without duplicates). Make sure your program works on two lists of different sizes.\n",
    "\n",
    "Expected Output:\n",
    "```\n",
    "List 1: [0, 2, 4, 6, 12, 13, 14, 18, 20, 24, 25, 26, 27]\n",
    "List 2: [0, 4, 7, 9, 10, 11, 13, 14, 17, 18, 20, 33, 39]\n",
    "List of common elements are:  [0, 4, 13, 14, 18, 20]\n",
    "```\n",
    "\n",
    "For extra points:\n",
    "1. Generate the two list randomly to test this\n",
    "2. Generate each list in one line of Python."
   ]
  },
  {
   "cell_type": "code",
   "execution_count": 3,
   "metadata": {},
   "outputs": [
    {
     "name": "stdout",
     "output_type": "stream",
     "text": [
      "List 1: [20, 18, 2, 6, 2, 6, 16, 7, 13, 18, 14, 2, 3, 14, 13, 11, 3, 6, 13, 0]\n",
      "List 2: [7, 10, 18, 17, 7, 4, 14, 5, 20, 5, 10, 3, 16, 16, 17, 4, 4, 14, 3, 4]\n",
      "List of common elements are:  [3, 7, 14, 16, 18, 20]\n"
     ]
    }
   ],
   "source": [
    "# Solution 1: \n",
    "import random\n",
    "a = [random.randint(0, 20) for i in range(20)]\n",
    "b = [random.randint(0, 20) for i in range(20)]\n",
    "c = set(a) & set(b) \n",
    "print('List 1: '+str(a))\n",
    "print('List 2: '+str(b))\n",
    "print('List of common elements are:  '+str(list(c)))\n"
   ]
  },
  {
   "cell_type": "markdown",
   "metadata": {},
   "source": [
    "### Question 2: \n",
    "\n",
    "Write a python program to find the gravitational force acting between two objects.\n",
    "\n",
    "\\begin{equation*}\n",
    "F=G\\frac{{m_1}{m_2}}{{r^2}}\n",
    "\\end{equation*}\n",
    "\n",
    "Expected Output:\n",
    "```\n",
    "Enter the first mass (m1): 5000000\n",
    "Enter the second mass (m2): 900000\n",
    "Enter the distance between the centres of the masses (N): 30\n",
    "Hence, the Gravitational Force is:  0.33 N\n",
    "```"
   ]
  },
  {
   "cell_type": "code",
   "execution_count": 7,
   "metadata": {},
   "outputs": [
    {
     "name": "stdout",
     "output_type": "stream",
     "text": [
      "Enter the first mass (m1): 5000000\n",
      "Enter the first mass (m2): 900000\n",
      "Hence, the Gravitational Force is:  30\n",
      "Hence, the Gravitational Force is:  0.33N\n"
     ]
    }
   ],
   "source": [
    "# Solution 2: \n",
    "m1=float(input('Enter the first mass (m1): '))\n",
    "m2=float(input('Enter the first mass (m2): '))\n",
    "r=float(input('Hence, the Gravitational Force is:  '))\n",
    "F=0.33/((5000000*900000)/(30**2))*m1*m2/(r**2)\n",
    "print('Hence, the Gravitational Force is:  '+str(F)+'N')\n"
   ]
  },
  {
   "cell_type": "markdown",
   "metadata": {},
   "source": [
    "### Question 3: \n",
    "\n",
    "Write a python program that generates a new list that contains only even elements from the randomly generated list.\n",
    "\n",
    "Expected Output:\n",
    "```\n",
    "Randomly generated list: [64, 63, 90, 13, 38, 27, 19, 51, 97, 32, 18, 75]\n",
    "List of even elements: [64, 90, 38, 32, 18]\n",
    "```"
   ]
  },
  {
   "cell_type": "code",
   "execution_count": 9,
   "metadata": {},
   "outputs": [
    {
     "name": "stdout",
     "output_type": "stream",
     "text": [
      "Randomly generated list: [14, 6, 3, 16, 13, 14, 17, 19, 10, 16, 2, 3, 14, 8, 3, 14, 0, 19, 0, 18]\n",
      "List of even elements: [14, 6, 16, 14, 10, 16, 2, 14, 8, 14, 0, 0, 18]\n"
     ]
    }
   ],
   "source": [
    "# Solution 3: \n",
    "a = [random.randint(0, 100) for i in range(20)]\n",
    "print('Randomly generated list: '+str(a))\n",
    "new_list = []\n",
    "def value(list):    \n",
    "    for i in list:  \n",
    "        if i%2 == 0:    \n",
    "            new_list.append(i)  \n",
    "    return new_list \n",
    "l = value(a)    \n",
    "print('List of even elements: '+str(l))\n"
   ]
  },
  {
   "cell_type": "markdown",
   "metadata": {},
   "source": [
    "### Question 4: \n",
    "\n",
    "Write a python program to check if a substring is present in a given string.\n",
    "\n",
    "Expected Output:\n",
    "```\n",
    "Enter string: Hello world\n",
    "Enter word: world\n",
    "Substring in string!\n",
    "```"
   ]
  },
  {
   "cell_type": "code",
   "execution_count": 15,
   "metadata": {},
   "outputs": [
    {
     "name": "stdout",
     "output_type": "stream",
     "text": [
      "Enter string: hi good\n",
      "Enter word: good\n",
      "Substring in string!\n"
     ]
    }
   ],
   "source": [
    "# Solution 4: \n",
    "a =input('Enter string: ')\n",
    "b=input('Enter word: ')\n",
    "try:\n",
    "    c =a.index(b)\n",
    "    print('Substring in string!')\n",
    "except:\n",
    "    print('Substring not in string!')\n"
   ]
  },
  {
   "cell_type": "markdown",
   "metadata": {},
   "source": [
    "### Question 5: \n",
    "\n",
    "Write a python program that asks the user last 2 digit of (your) student number and generates Fibonacci series.\n",
    "\n",
    "Expected Output:\n",
    "```\n",
    "How many numbers that generates?: 12\n",
    "Fibonacci series:\n",
    " [1, 1, 2, 3, 5, 8, 13, 21, 34, 55, 89, 144]\n",
    "```"
   ]
  },
  {
   "cell_type": "code",
   "execution_count": 1,
   "metadata": {},
   "outputs": [
    {
     "name": "stdout",
     "output_type": "stream",
     "text": [
      "How many numbers that generates?: 12\n",
      "Fibonacci series:\n",
      "[1, 1, 2, 3, 5, 8, 13, 21, 34, 55, 89, 144]\n"
     ]
    }
   ],
   "source": [
    "# Solution 5: \n",
    "n =int(input('How many numbers that generates?: '))\n",
    "if n == 1:\n",
    "    a = [1]\n",
    "if n == 2:\n",
    "    a = [1, 1]\n",
    "if n > 2:\n",
    "    a = [1,1]\n",
    "    for i in range(2, n):\n",
    "        a.append(a[i-2] + a[i-1])\n",
    "print('Fibonacci series:')\n",
    "print(str(a))\n"
   ]
  },
  {
   "cell_type": "markdown",
   "metadata": {},
   "source": [
    "### Question 6: \n",
    "\n",
    "Write a python program using function that generates a new list that contains all the elements of the first list and removing all the duplicates.\n",
    "\n",
    "Expected Output:\n",
    "```\n",
    "List:  [1, 2, 3, 4, 3, 2, 1]\n",
    "Result List using loop:  [1, 2, 3, 4]\n",
    "Result List using sets:  [1, 2, 3, 4]\n",
    "```\n",
    "\n",
    "For extra points:\n",
    "1. Generate the result using two different functions using:\n",
    "    - one using a loop and constructing a list\n",
    "    - sets"
   ]
  },
  {
   "cell_type": "code",
   "execution_count": 5,
   "metadata": {},
   "outputs": [
    {
     "name": "stdout",
     "output_type": "stream",
     "text": [
      "List:  [3, 0, 4, 2, 5, 1, 1, 1, 5, 4]\n",
      "Result List using loop:  [3, 0, 4, 2, 5, 1]\n",
      "Result List using sets:  [0, 1, 2, 3, 4, 5]\n"
     ]
    }
   ],
   "source": [
    "# Solution 6: \n",
    "import random\n",
    "a =[random.randint(0, 5) for i in range(10)]\n",
    "print('List:  '+str(a))\n",
    "l = []\n",
    "for i in a:\n",
    "    if i not in l:\n",
    "        l.append(i)\n",
    "s=list(set(a))        \n",
    "print('Result List using loop:  '+str(l))\n",
    "print('Result List using sets:  '+str(s))"
   ]
  },
  {
   "cell_type": "markdown",
   "metadata": {},
   "source": [
    "### Question 7: \n",
    "\n",
    "Write a python program using functions that asks the user for a string containing multiple words and print back to the user the same string, except with the words in reverse order.\n",
    "\n",
    "Expected Output:\n",
    "```\n",
    "Please enter a sentence: My name is Milaan\n",
    "The reverse sentence is: Milaan is name My\n",
    "```"
   ]
  },
  {
   "cell_type": "code",
   "execution_count": 6,
   "metadata": {},
   "outputs": [
    {
     "name": "stdout",
     "output_type": "stream",
     "text": [
      "Please enter a sentence: asd\n",
      "The reverse sentence is: dsa\n"
     ]
    }
   ],
   "source": [
    "# Solution 7: \n",
    "a = input('Please enter a sentence: ')\n",
    "print('The reverse sentence is: '+a[::-1])"
   ]
  },
  {
   "cell_type": "markdown",
   "metadata": {},
   "source": [
    "### Question 8: \n",
    "\n",
    "Write a python program using function that encrypts a given input with these steps:\n",
    "\n",
    "Input: \"apple\"\n",
    "\n",
    "* Step 1: Reverse the input: \"elppa\"\n",
    "* Step 2: Replace all vowels using the following chart:\n",
    "\n",
    "```python\n",
    "a => 0\n",
    "e => 1\n",
    "i => 2\n",
    "o => 2\n",
    "u => 3\n",
    "# 1lpp0\n",
    "```\n",
    "\n",
    "* Step 3: Add \"aca\" to the end of the word: \"1lpp0aca\"\n",
    "\n",
    "Expected Output:\n",
    "```\n",
    "Word:  apple\n",
    "Encrypted word: 1lpp0aca\n",
    "```\n",
    "\n",
    "More Examples:\n",
    "```\n",
    "encrypt(\"banana\") ➞ \"0n0n0baca\"\n",
    "encrypt(\"karaca\") ➞ \"0c0r0kaca\"\n",
    "encrypt(\"burak\") ➞ \"k0r3baca\"\n",
    "encrypt(\"alpaca\") ➞ \"0c0pl0aca\"\n",
    "```"
   ]
  },
  {
   "cell_type": "code",
   "execution_count": 9,
   "metadata": {},
   "outputs": [
    {
     "name": "stdout",
     "output_type": "stream",
     "text": [
      "Word:  apple\n",
      "elppa\n",
      "Encrypted word: 1lpp0aca\n"
     ]
    }
   ],
   "source": [
    "# Solution 8: \n",
    "a = input('Word:  ')\n",
    "b = a[::-1]\n",
    "print(b)\n",
    "if 'a' in b:\n",
    "    b=b.replace('a','0')\n",
    "if 'e' in b:\n",
    "    b=b.replace('e','1')\n",
    "if 'i' in b:\n",
    "    b=b.replace('i','2')\n",
    "if 'o' in b:\n",
    "    b=b.replace('o','2')\n",
    "if 'u' in b:\n",
    "    b=b.replace('u','3')\n",
    "c=b+'aca'\n",
    "print('Encrypted word: '+c)\n",
    "\n"
   ]
  },
  {
   "cell_type": "markdown",
   "metadata": {},
   "source": [
    "### Question 9: \n",
    "\n",
    "Write a python program using function that takes a number num and returns its length.\n",
    "\n",
    "Expected Output:\n",
    "```\n",
    "Enter number: 963969\n",
    "Total digits in given number:  6\n",
    "```"
   ]
  },
  {
   "cell_type": "code",
   "execution_count": 12,
   "metadata": {},
   "outputs": [
    {
     "name": "stdout",
     "output_type": "stream",
     "text": [
      "Enter number: 963969\n",
      "Total digits in given number:  6\n"
     ]
    }
   ],
   "source": [
    "# Solution 9: \n",
    "a = input('Enter number: ')\n",
    "print('Total digits in given number:  ' +str(len(a)))\n"
   ]
  },
  {
   "cell_type": "markdown",
   "metadata": {},
   "source": [
    "### Question 10: \n",
    "\n",
    "Write a python program using function that takes a string and returns the number (count) of vowels contained within it.\n",
    "\n",
    "Expected Output:\n",
    "```\n",
    "Enter string: Celebration\n",
    "Total vowels in the string: 5\n",
    "Identified vowels are:  ['e', 'e', 'a', 'i', 'o']\n",
    "```\n",
    "\n",
    "More examples:\n",
    "```\n",
    "count_vowels(\"Palm\") ➞ 1\n",
    "count_vowels(\"Prediction\") ➞ 4\n",
    "```"
   ]
  },
  {
   "cell_type": "code",
   "execution_count": 13,
   "metadata": {},
   "outputs": [
    {
     "name": "stdout",
     "output_type": "stream",
     "text": [
      "Enter string: apple\n",
      "Total vowels in the string: 2\n",
      "Identified vowels are:  ['a', 'e']\n"
     ]
    }
   ],
   "source": [
    "# Solution 10: \n",
    "a = input('Enter string: ')\n",
    "c=[]\n",
    "for b in a:\n",
    "    if 'a' == b:\n",
    "        c.append(b)\n",
    "    elif 'e' == b:\n",
    "        c.append(b)\n",
    "    elif 'i' == b:\n",
    "        c.append(b)\n",
    "    elif 'o' == b:\n",
    "        c.append(b)\n",
    "    elif 'u' == b:\n",
    "        c.append(b)\n",
    "print('Total vowels in the string: '+ str(len(c)))\n",
    "print('Identified vowels are:  '+str(c))\n"
   ]
  },
  {
   "cell_type": "markdown",
   "metadata": {},
   "source": [
    "### Question 11:\n",
    "\n",
    "Write a python program to draw pattern as below:\n",
    "\n",
    "Expected Output:\n",
    "```\n",
    "--- --- --- \n",
    "|   |   |   |\n",
    " --- --- --- \n",
    "|   |   |   |\n",
    " --- --- --- \n",
    "|   |   |   |\n",
    " --- --- --- \n",
    "```\n",
    "\n",
    "For extra point:\n",
    "1. Generate solution by asking the user what size game board they want to draw, and draw it for them to the screen using Python’s print statement.\n",
    "\n",
    "Expected Output:\n",
    "```\n",
    "Enter the size of board you want to draw: 4\n",
    " --- --- --- ---\n",
    "|   |   |   |   |   \n",
    " --- --- --- ---\n",
    "|   |   |   |   |   \n",
    " --- --- --- ---\n",
    "|   |   |   |   |   \n",
    " --- --- --- ---\n",
    "|   |   |   |   |   \n",
    " --- --- --- ---\n",
    "```"
   ]
  },
  {
   "cell_type": "code",
   "execution_count": 14,
   "metadata": {},
   "outputs": [
    {
     "name": "stdout",
     "output_type": "stream",
     "text": [
      "Enter the size of board you want to draw: 4\n",
      " --- --- --- ---\n",
      "|   |   |   |   |\n",
      " --- --- --- ---\n",
      "|   |   |   |   |\n",
      " --- --- --- ---\n",
      "|   |   |   |   |\n",
      " --- --- --- ---\n",
      "|   |   |   |   |\n",
      " --- --- --- ---\n"
     ]
    }
   ],
   "source": [
    "# Solution 11: \n",
    "a=input('Enter the size of board you want to draw: ')\n",
    "n=int(a)\n",
    "print(' ---'*n)\n",
    "for i in range(n):\n",
    "    print('|'+'   |'*n)\n",
    "    print(' ---'*n)"
   ]
  },
  {
   "cell_type": "markdown",
   "metadata": {},
   "source": [
    "### Question 12: \n",
    "\n",
    "Write a python program to ask user for a string and then perform following operations:\n",
    "1. Calculate the num of digits \n",
    "2. Calculate the num of characters \n",
    "3. Calculate the num of vowels\n",
    "4. Calculate the num of lowercase letters\n",
    "5. replace ' ' with '_' in the string\n",
    "6. Print and Store the ouput to 'output.txt' file.\n",
    "\n",
    "Expected Output:\n",
    "```\n",
    "Enter string: Hello World 123\n",
    "Output printed in'output.txt'\n",
    "```\n",
    "\n",
    "Expected Output in output.txt:\n",
    "```\n",
    "The entered string is: Hello World 123\n",
    "The number of digits is: 3\n",
    "The number of characters is: 15\n",
    "The number of vowels is: 3\n",
    "The number of lowercase letters is: 8\n",
    "The modified string is: Hello_World_123\n",
    "```"
   ]
  },
  {
   "cell_type": "code",
   "execution_count": 19,
   "metadata": {},
   "outputs": [
    {
     "name": "stdout",
     "output_type": "stream",
     "text": [
      "Enter string: hello 123\n",
      "The entered string is: hello 123\n",
      "The number of digits is: 3\n",
      "The number of characters is: 9\n",
      "The number of vowels is: 2\n",
      "The number of lowercase letters is: 5\n",
      "The modified string is: hello_123\n",
      "\n"
     ]
    }
   ],
   "source": [
    "# Solution 12: \n",
    "import re\n",
    "a=input('Enter string: ')\n",
    "int_count=0\n",
    "c=[]\n",
    "d=a.replace(' ','_')\n",
    "for b in a:\n",
    "    if b.isdigit():\n",
    "        int_count += 1\n",
    "    if 'a' == b:\n",
    "        c.append(b)\n",
    "    elif 'e' == b:\n",
    "        c.append(b)\n",
    "    elif 'i' == b:\n",
    "        c.append(b)\n",
    "    elif 'o' == b:\n",
    "        c.append(b)\n",
    "    elif 'u' == b:\n",
    "        c.append(b)\n",
    "f=open('output.txt',mode='w')\n",
    "f.write('The entered string is: '+a +'\\n')\n",
    "f.write('The number of digits is: '+str(int_count) +'\\n')\n",
    "f.write('The number of characters is: '+str(len(a)) +'\\n')\n",
    "f.write('The number of vowels is: '+str(len(c)) +'\\n')\n",
    "f.write('The number of lowercase letters is: '+str(len(re.findall('[a-z]',a))) +'\\n')\n",
    "f.write('The modified string is: '+str(d) +'\\n')\n",
    "f.close()\n",
    "fr=open('output.txt',mode='r')\n",
    "text=fr.read()\n",
    "print(text)"
   ]
  },
  {
   "cell_type": "markdown",
   "metadata": {},
   "source": [
    "### Question 13: \n",
    "\n",
    "Write a python program using function that takes as input three variables from user, and returns the largest of the three. Do this without using the Python **`max()`** function!\n",
    "\n",
    "Expected Output:\n",
    "```\n",
    "Please enter three integers separated by comma: 12, 66, 31\n",
    "The maximum value is: 66 \n",
    "```"
   ]
  },
  {
   "cell_type": "code",
   "execution_count": 22,
   "metadata": {},
   "outputs": [
    {
     "name": "stdout",
     "output_type": "stream",
     "text": [
      "Please enter three integers separated by comma: 1,2,3\n",
      "The maximum value is: 3\n"
     ]
    }
   ],
   "source": [
    "# Solution 13: \n",
    "a = input('Please enter three integers separated by comma: ')\n",
    "a_list = a.split(',')\n",
    "max_number=0\n",
    "for i in a_list:\n",
    "    b =int(i)\n",
    "    if b>max_number:\n",
    "        max_number=b\n",
    "print('The maximum value is: '+ str(max_number))\n"
   ]
  },
  {
   "cell_type": "markdown",
   "metadata": {},
   "source": [
    "### Question 14: \n",
    "\n",
    "Write a python program where user, will have a number in head between 0 and 100. The program will guess a number, and you, the user, will say whether it is too \"high\", too \"low\", or your number. Also, in the end program should print out how many guesses it took to get your number.\n",
    "\n",
    "Expected Output:\n",
    "```\n",
    "Guess a number between 0 and 100 and tell whether high or low when prompted!\n",
    "My guess is 50. Is that high, low or same? low\n",
    "My guess is 75. Is that high, low or same? low\n",
    "My guess is 88. Is that high, low or same? low\n",
    "My guess is 94. Is that high, low or same? low\n",
    "My guess is 97. Is that high, low or same? low\n",
    "My guess is 99. Is that high, low or same? same\n",
    "Congrats to me! I guessed it in 6 tries.\n",
    "```"
   ]
  },
  {
   "cell_type": "code",
   "execution_count": null,
   "metadata": {},
   "outputs": [
    {
     "name": "stdout",
     "output_type": "stream",
     "text": [
      "Guess a number between 0 and 100 and tell whether high or low when prompted!\n",
      "My guess is 66\n",
      " Is that high, low or same? low\n"
     ]
    }
   ],
   "source": [
    "# Solution 14: \n",
    "import random\n",
    "a=random.randint(0,100)\n",
    "print('Guess a number between 0 and 100 and tell whether high or low when prompted!')\n",
    "flag =0\n",
    "e = 0\n",
    "while flag ==0:\n",
    "    n=int(input('My guess is '))\n",
    "    if n>a:\n",
    "        print(' Is that high, low or same? high')\n",
    "        e +=1\n",
    "    elif n<a:\n",
    "        e+=1\n",
    "        print(' Is that high, low or same? low')\n",
    "    else:\n",
    "        print(' Is that high, low or same? same')\n",
    "        e+=1\n",
    "        print('Congrats to me! I guessed it in '+str(e)+' tries.')\n",
    "\n",
    "\n"
   ]
  },
  {
   "cell_type": "markdown",
   "metadata": {},
   "source": [
    "### Question 15: \n",
    "\n",
    "Write a python program using function that takes an list(ordered) of numbers (from smallest to largest) and another number. The function decides whether or not the given number is inside the list and returns (then prints) an appropriate boolean.\n",
    "\n",
    ">Hint: Use binary search.\n",
    "\n",
    "Expected Output:\n",
    "```\n",
    "List:  [2, 4, 6, 8, 10]\n",
    "Find  '5': False\n",
    "Find '10': True\n",
    "Find '-1': False\n",
    "Find  '2': True\n",
    "```\n",
    "\n",
    "For extra point:\n",
    "1. Generate list randomly and select he number randomly to be search from the list."
   ]
  },
  {
   "cell_type": "code",
   "execution_count": 5,
   "metadata": {},
   "outputs": [
    {
     "name": "stdout",
     "output_type": "stream",
     "text": [
      "List:   [1, 2, 2, 4, 1, 3, 1, 3, 0, 1]\n",
      "Find  '5\n",
      "5 : False\n"
     ]
    }
   ],
   "source": [
    "# Solution 15: \n",
    "import random\n",
    "a =[random.randint(0, 5) for i in range(10)]\n",
    "b=sorted(a)\n",
    "print('List:  ',str(a))\n",
    "flag =0\n",
    "while flag ==0:\n",
    "    n = int(input(\"Find  '\"))\n",
    "    if n in b:\n",
    "        print(str(n),': True')\n",
    "    else:\n",
    "        flag=1\n",
    "        print(str(n),': False')\n"
   ]
  },
  {
   "cell_type": "markdown",
   "metadata": {},
   "source": [
    "### Question 16: \n",
    "\n",
    "Write a python program to generate password. Be creative with how you generate passwords - strong passwords have a mix of lowercase letters, uppercase letters, numbers, and symbols. The passwords should be random, generating a new password every time the user asks for a new password. Include your code in a main method.\n",
    "\n",
    "Expected Output:\n",
    "```\n",
    "Please choose strong or weak:\n",
    "strong\n",
    "password: 6|Av.0T^9\n",
    "do you want a new password? y/n\n",
    "n\n",
    "```\n",
    "\n",
    "For extra points:\n",
    "1. Ask the user if they want password to be strong(9 characters) or weak(6 characters)?"
   ]
  },
  {
   "cell_type": "code",
   "execution_count": 3,
   "metadata": {},
   "outputs": [
    {
     "name": "stdout",
     "output_type": "stream",
     "text": [
      "Please choose strong or weak:weak\n",
      "password: 7d43ux\n",
      "do you want a new password? y/n\n",
      "n\n"
     ]
    }
   ],
   "source": [
    "# Solution 16\n",
    "import random\n",
    "a = input('Please choose strong or weak:')\n",
    "if a=='strong':\n",
    "    print('password:',''.join(random.sample(\"1234567890abcdefghijklmnopqrstuvwxyz!@#$%^&*()QWERTYUIOPASDFGHJKLZXCVBNM\",9)))\n",
    "if a =='weak':\n",
    "    print('password:',''.join(random.sample(\"1234567890abcdefghijklmnopqrstuvwxyz!@#$%^&*()\",6)))\n",
    "print('do you want a new password? y/n')\n",
    "n=input()\n",
    "    "
   ]
  },
  {
   "cell_type": "markdown",
   "metadata": {},
   "source": [
    "### Question 17: \n",
    "\n",
    "Write a python program using function that picks a random word from a list of words from the **[dictionary](https://github.com/milaan9/92_Python_Assignments/blob/main/sowpods.txt)**. Each line in the file contains a single word.\n",
    "\n",
    ">Hint: use the Python random library for picking a random word.\n",
    "\n",
    "Expected Output:\n",
    "```\n",
    "Random word: POTENTIATING\n",
    "```"
   ]
  },
  {
   "cell_type": "code",
   "execution_count": 5,
   "metadata": {},
   "outputs": [
    {
     "name": "stdout",
     "output_type": "stream",
     "text": [
      "Random word:  PROMOED\n",
      "\n"
     ]
    }
   ],
   "source": [
    "# Solution 17: \n",
    "import random\n",
    "fr=open('sowpods.txt',mode='r')\n",
    "text=fr.readlines()\n",
    "print('Random word: ',text[random.randint(0, len(text))])\n"
   ]
  },
  {
   "cell_type": "markdown",
   "metadata": {},
   "source": [
    "### Question 18: \n",
    "\n",
    "Write a python program where a text(.txt) file is given **[nameslist.txt](https://github.com/milaan9/92_Python_Assignments/blob/main/nameslist.txt)** that contains list of a bunch of names, count how many of each name there are in the file, and print out the results to the screen. \n",
    "\n",
    "Expected Output:\n",
    "```\n",
    "{'Darth': 31, 'Luke': 15, 'Leia': 54}\n",
    "```\n",
    "\n",
    "For extra point:\n",
    "1. Instead of using the **[nameslist.txt](https://github.com/milaan9/92_Python_Assignments/blob/main/nameslist.txt)** file from above (or instead of, if you want the challenge), take this **[SUN_Database.txt](https://github.com/milaan9/92_Python_Assignments/blob/main/SUN_Database.txt)** file, and count how many of each “category” of each image there are. This text file is actually a list of files corresponding to the SUN database scene recognition database, and lists the file directory hierarchy for the images. Once you take a look at the first line or two of the file, it will be clear which part represents the scene category.\n",
    "\n",
    "Expected Output:\n",
    "```\n",
    "abbey: 50\n",
    "airplane_cabin: 50\n",
    "airport_terminal: 50\n",
    "alley: 50\n",
    "amphitheater: 50\n",
    "...\n",
    "...\n",
    "...\n",
    "wrestling_ring: 50\n",
    "yard: 50\n",
    "youth_hostel: 50\n",
    "```"
   ]
  },
  {
   "cell_type": "code",
   "execution_count": 8,
   "metadata": {},
   "outputs": [
    {
     "name": "stdout",
     "output_type": "stream",
     "text": [
      "Counter({'Leia': 54, 'Darth': 31, 'Luke': 15})\n"
     ]
    }
   ],
   "source": [
    "# Solution 18: \n",
    "from collections import Counter\n",
    "fr=open('nameslist.txt',mode='r')\n",
    "text=fr.read()\n",
    "text=text.split('\\n')\n",
    "counter = Counter(text)\n",
    "print(str(counter))\n"
   ]
  },
  {
   "cell_type": "markdown",
   "metadata": {},
   "source": [
    "### Question 19: \n",
    "\n",
    "Write a python program where two .txt files are given that have lists of numbers in them, find the numbers that are overlapping. One '**[primenumbers1_1000.txt](https://github.com/milaan9/92_Python_Assignments/blob/main/primenumbers1_1000.txt)**' file has a list of all prime numbers under 1000, and the other '**[happynumbers1_1000.txt](https://github.com/milaan9/92_Python_Assignments/blob/main/happynumbers1_1000.txt)**' file has a list of **[happy numbers](https://en.wikipedia.org/wiki/Happy_number)** up to 1000.\n",
    "\n",
    "Expected Output:\n",
    "```\n",
    "The list of overlapping numbers:\n",
    " [7, 13, 19, 23, 31, 79, 97, 103, 109, 139, 167, 193, 239, 263, 293, 313, 331, 367, 379, 383, 397, 409, 487, 563, 617, 653, 673, 683, 709, 739, 761, 863, 881, 907, 937]\n",
    "```\n",
    "\n",
    "For extra point:\n",
    "1. Generate solution with functions using list comprehensions"
   ]
  },
  {
   "cell_type": "code",
   "execution_count": 17,
   "metadata": {},
   "outputs": [
    {
     "name": "stdout",
     "output_type": "stream",
     "text": [
      "The list of overlapping numbers:\n",
      "['383', '263', '709', '881', '313', '617', '193', '907', '103', '79', '97', '761', '739', '31', '19', '487', '331', '239', '563', '379', '109', '653', '367', '673', '23', '167', '293', '7', '397', '683', '139', '937', '13']\n"
     ]
    }
   ],
   "source": [
    "# Solution 19: \n",
    "fr1=open('happynumbers1_1000.txt',mode='r')\n",
    "text1=fr1.read()\n",
    "text1=text1.split('\\n')\n",
    "fr2=open('primenumbers1_1000.txt',mode='r')\n",
    "text2=fr2.read()\n",
    "text2=text2.split('\\n')\n",
    "print('The list of overlapping numbers:')\n",
    "print(str(list(set(text1)&set(text2))))"
   ]
  },
  {
   "cell_type": "markdown",
   "metadata": {},
   "source": [
    "### Question 20: \n",
    "\n",
    "Create a function that takes a string as an argument and returns the Morse code equivalent.\n",
    "\n",
    "For example:\n",
    "```\n",
    "encode_morse(\"HELP ME !\") ➞ \".... . .-.. .--.   -- .   -.-.--\"\n",
    "```\n",
    "\n",
    "Expected Output:\n",
    "```\n",
    "Enter a sentence: I love\n",
    "..   .-.. --- ...- .\n",
    "Enter morse code: .--. -.-- - .... --- -.\n",
    "PYTHON\n",
    "```\n",
    "\n",
    "This dictionary can be used for coding:\n",
    "```\n",
    "char_to_dots = {\n",
    "    'A': '.-',   'B': '-...', 'C': '-.-.', 'D': '-..',  'E': '.',    'F': '..-.',\n",
    "    'G': '--.',  'H': '....', 'I': '..',   'J': '.---', 'K': '-.-',  'L': '.-..',\n",
    "    'M': '--',   'N': '-.',   'O': '---',  'P': '.--.', 'Q': '--.-', 'R': '.-.',\n",
    "    'S': '...',  'T': '-',    'U': '..-',  'V': '...-', 'W': '.--',  'X': '-..-',\n",
    "    'Y': '-.--', 'Z': '--..',  \n",
    "        \n",
    "    '0': '-----', '1': '.----', '2': '..---', '3': '...--', '4': '....-', \n",
    "    '5': '.....', '6': '-....', '7': '--...', '8': '---..', '9': '----.',\n",
    "        \n",
    "    ' ': ' ',      '&': '.-...',  \"'\": '.----.', '@': '.--.-.', ')': '-.--.-', \n",
    "    '(': '-.--.',  ':': '---...', ',': '--..--', '=': '-...-',  '!': '-.-.--', \n",
    "    '.': '.-.-.-', '-': '-....-', '+': '.-.-.', '\"': '.-..-.',  '?': '..--..', \n",
    "    '/': '-..-.'\n",
    "}\n",
    "```"
   ]
  },
  {
   "cell_type": "code",
   "execution_count": 21,
   "metadata": {},
   "outputs": [
    {
     "name": "stdout",
     "output_type": "stream",
     "text": [
      "Enter a sentence: GOOD\n",
      "--. --- --- -.. \n",
      "Enter morse code: --. --- --- -..\n",
      "GOOD\n"
     ]
    }
   ],
   "source": [
    "# Solution 20: \n",
    "char_to_dots = {\n",
    "    'A': '.-',   'B': '-...', 'C': '-.-.', 'D': '-..',  'E': '.',    'F': '..-.',\n",
    "    'G': '--.',  'H': '....', 'I': '..',   'J': '.---', 'K': '-.-',  'L': '.-..',\n",
    "    'M': '--',   'N': '-.',   'O': '---',  'P': '.--.', 'Q': '--.-', 'R': '.-.',\n",
    "    'S': '...',  'T': '-',    'U': '..-',  'V': '...-', 'W': '.--',  'X': '-..-',\n",
    "    'Y': '-.--', 'Z': '--..',  \n",
    "\n",
    "    '0': '-----', '1': '.----', '2': '..---', '3': '...--', '4': '....-', \n",
    "    '5': '.....', '6': '-....', '7': '--...', '8': '---..', '9': '----.',\n",
    "\n",
    "    ' ': ' ',      '&': '.-...',  \"'\": '.----.', '@': '.--.-.', ')': '-.--.-', \n",
    "    '(': '-.--.',  ':': '---...', ',': '--..--', '=': '-...-',  '!': '-.-.--', \n",
    "    '.': '.-.-.-', '-': '-....-', '+': '.-.-.', '\"': '.-..-.',  '?': '..--..', \n",
    "    '/': '-..-.'\n",
    "}\n",
    "a = input('Enter a sentence: ')\n",
    "mode =''\n",
    "for i in a:\n",
    "    str1 = char_to_dots[i]\n",
    "    mode += str1+' '\n",
    "print(mode)\n",
    "b =input('Enter morse code: ')\n",
    "b_list = b.split(' ')\n",
    "word = ''\n",
    "for j in b_list:\n",
    "    word+=list(char_to_dots.keys())[list(char_to_dots.values()).index(j)][0]\n",
    "print(word)"
   ]
  },
  {
   "cell_type": "code",
   "execution_count": null,
   "metadata": {},
   "outputs": [],
   "source": []
  }
 ],
 "metadata": {
  "hide_input": false,
  "kernelspec": {
   "display_name": "Python 3",
   "language": "python",
   "name": "python3"
  },
  "language_info": {
   "codemirror_mode": {
    "name": "ipython",
    "version": 3
   },
   "file_extension": ".py",
   "mimetype": "text/x-python",
   "name": "python",
   "nbconvert_exporter": "python",
   "pygments_lexer": "ipython3",
   "version": "3.7.0"
  },
  "toc": {
   "base_numbering": 1,
   "nav_menu": {},
   "number_sections": true,
   "sideBar": true,
   "skip_h1_title": false,
   "title_cell": "Table of Contents",
   "title_sidebar": "Contents",
   "toc_cell": false,
   "toc_position": {},
   "toc_section_display": true,
   "toc_window_display": false
  },
  "varInspector": {
   "cols": {
    "lenName": 16,
    "lenType": 16,
    "lenVar": 40
   },
   "kernels_config": {
    "python": {
     "delete_cmd_postfix": "",
     "delete_cmd_prefix": "del ",
     "library": "var_list.py",
     "varRefreshCmd": "print(var_dic_list())"
    },
    "r": {
     "delete_cmd_postfix": ") ",
     "delete_cmd_prefix": "rm(",
     "library": "var_list.r",
     "varRefreshCmd": "cat(var_dic_list()) "
    }
   },
   "types_to_exclude": [
    "module",
    "function",
    "builtin_function_or_method",
    "instance",
    "_Feature"
   ],
   "window_display": false
  }
 },
 "nbformat": 4,
 "nbformat_minor": 2
}
